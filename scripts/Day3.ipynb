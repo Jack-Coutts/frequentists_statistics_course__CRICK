{
 "cells": [
  {
   "cell_type": "markdown",
   "source": [
    "# Day Three - 17/04/2024"
   ],
   "metadata": {
    "collapsed": false
   }
  },
  {
   "cell_type": "markdown",
   "source": [
    "## Two-Way ANOVA\n",
    "\n",
    "A two-way analysis of variance is used when we have two categorical predictor variables (or factors) and a single\n",
    "continuous response variable.\n",
    "\n",
    "For example, when we are looking at how body weight (continuous response variable in kilograms) is affected by sex\n",
    "(categorical variable, male or female) and exercise type (categorical variable, control or runner).\n",
    "\n",
    "\n",
    "When analysing these type of data there are two things we want to know:\n",
    "\n",
    "1. Does either of the predictor variables have an effect on the response variable i.e. does sex affect body weight? Or\n",
    "   does being a runner affect body weight?\n",
    "\n",
    "2. Is there any interaction between the two predictor variables? An interaction would mean that the effect that\n",
    "   exercise has on your weight depends on whether you are male or female rather than being independent of your sex.\n",
    "   For example if being male means that runners weigh more than non-runners, but being female means that runners weight\n",
    "   less than non-runners then we would say that there was an interaction.\n",
    "\n",
    "We will first consider how to visualise the data before then carrying out an appropriate statistical test."
   ],
   "metadata": {
    "collapsed": false
   }
  },
  {
   "cell_type": "code",
   "execution_count": 3,
   "outputs": [
    {
     "name": "stdout",
     "output_type": "stream",
     "text": [
      "\u001B[33mDEPRECATION: Loading egg at /Users/couttsj/anaconda3/lib/python3.11/site-packages/ml_collections-0.1.1-py3.11.egg is deprecated. pip 23.3 will enforce this behaviour change. A possible replacement is to use pip for package installation..\u001B[0m\u001B[33m\r\n",
      "\u001B[0m\u001B[33mDEPRECATION: Loading egg at /Users/couttsj/anaconda3/lib/python3.11/site-packages/immutabledict-3.0.0-py3.11.egg is deprecated. pip 23.3 will enforce this behaviour change. A possible replacement is to use pip for package installation..\u001B[0m\u001B[33m\r\n",
      "\u001B[0m\u001B[33mDEPRECATION: Loading egg at /Users/couttsj/anaconda3/lib/python3.11/site-packages/docker-6.1.3-py3.11.egg is deprecated. pip 23.3 will enforce this behaviour change. A possible replacement is to use pip for package installation..\u001B[0m\u001B[33m\r\n",
      "\u001B[0m\u001B[33mDEPRECATION: Loading egg at /Users/couttsj/anaconda3/lib/python3.11/site-packages/dm_haiku-0.0.10-py3.11.egg is deprecated. pip 23.3 will enforce this behaviour change. A possible replacement is to use pip for package installation..\u001B[0m\u001B[33m\r\n",
      "\u001B[0m\u001B[33mDEPRECATION: Loading egg at /Users/couttsj/anaconda3/lib/python3.11/site-packages/chex-0.1.82-py3.11.egg is deprecated. pip 23.3 will enforce this behaviour change. A possible replacement is to use pip for package installation..\u001B[0m\u001B[33m\r\n",
      "\u001B[0m\u001B[33mDEPRECATION: Loading egg at /Users/couttsj/anaconda3/lib/python3.11/site-packages/alphafold-2.3.2-py3.11.egg is deprecated. pip 23.3 will enforce this behaviour change. A possible replacement is to use pip for package installation..\u001B[0m\u001B[33m\r\n",
      "\u001B[0m\u001B[33mDEPRECATION: Loading egg at /Users/couttsj/anaconda3/lib/python3.11/site-packages/dm_tree-0.1.8-py3.11-macosx-11.1-arm64.egg is deprecated. pip 23.3 will enforce this behaviour change. A possible replacement is to use pip for package installation..\u001B[0m\u001B[33m\r\n",
      "\u001B[0m\u001B[33mDEPRECATION: Loading egg at /Users/couttsj/anaconda3/lib/python3.11/site-packages/jax-0.4.15.dev20230831-py3.11.egg is deprecated. pip 23.3 will enforce this behaviour change. A possible replacement is to use pip for package installation..\u001B[0m\u001B[33m\r\n",
      "\u001B[0m\u001B[33mDEPRECATION: Loading egg at /Users/couttsj/anaconda3/lib/python3.11/site-packages/tensorflow-2.14.0rc0-py3.11-macosx-11.1-arm64.egg is deprecated. pip 23.3 will enforce this behaviour change. A possible replacement is to use pip for package installation..\u001B[0m\u001B[33m\r\n",
      "\u001B[0mLooking in indexes: https://pypi.org/simple, https://pypi.ngc.nvidia.com\r\n",
      "Collecting plotnine\r\n",
      "  Obtaining dependency information for plotnine from https://files.pythonhosted.org/packages/f7/1c/d0cc3272f7550253b46f6f1e86f02c046aa4c5841646c0435c32a93dd177/plotnine-0.13.4-py3-none-any.whl.metadata\r\n",
      "  Downloading plotnine-0.13.4-py3-none-any.whl.metadata (8.9 kB)\r\n",
      "Requirement already satisfied: matplotlib>=3.6.0 in /Users/couttsj/anaconda3/lib/python3.11/site-packages (from plotnine) (3.7.2)\r\n",
      "Collecting pandas<3.0.0,>=2.1.0 (from plotnine)\r\n",
      "  Obtaining dependency information for pandas<3.0.0,>=2.1.0 from https://files.pythonhosted.org/packages/16/c6/75231fd47afd6b3f89011e7077f1a3958441264aca7ae9ff596e3276a5d0/pandas-2.2.2-cp311-cp311-macosx_11_0_arm64.whl.metadata\r\n",
      "  Downloading pandas-2.2.2-cp311-cp311-macosx_11_0_arm64.whl.metadata (19 kB)\r\n",
      "Collecting mizani~=0.11.0 (from plotnine)\r\n",
      "  Obtaining dependency information for mizani~=0.11.0 from https://files.pythonhosted.org/packages/2a/eb/777d71d00d0a67659234b50505842cfc44fb304e01d3acf80501b6b2ab63/mizani-0.11.1-py3-none-any.whl.metadata\r\n",
      "  Downloading mizani-0.11.1-py3-none-any.whl.metadata (4.8 kB)\r\n",
      "Requirement already satisfied: numpy>=1.23.0 in /Users/couttsj/anaconda3/lib/python3.11/site-packages (from plotnine) (1.24.3)\r\n",
      "Requirement already satisfied: scipy>=1.7.0 in /Users/couttsj/anaconda3/lib/python3.11/site-packages (from plotnine) (1.11.3)\r\n",
      "Requirement already satisfied: statsmodels>=0.14.0 in /Users/couttsj/anaconda3/lib/python3.11/site-packages (from plotnine) (0.14.0)\r\n",
      "Requirement already satisfied: contourpy>=1.0.1 in /Users/couttsj/anaconda3/lib/python3.11/site-packages (from matplotlib>=3.6.0->plotnine) (1.0.5)\r\n",
      "Requirement already satisfied: cycler>=0.10 in /Users/couttsj/anaconda3/lib/python3.11/site-packages (from matplotlib>=3.6.0->plotnine) (0.11.0)\r\n",
      "Requirement already satisfied: fonttools>=4.22.0 in /Users/couttsj/anaconda3/lib/python3.11/site-packages (from matplotlib>=3.6.0->plotnine) (4.25.0)\r\n",
      "Requirement already satisfied: kiwisolver>=1.0.1 in /Users/couttsj/anaconda3/lib/python3.11/site-packages (from matplotlib>=3.6.0->plotnine) (1.4.4)\r\n",
      "Requirement already satisfied: packaging>=20.0 in /Users/couttsj/anaconda3/lib/python3.11/site-packages (from matplotlib>=3.6.0->plotnine) (23.1)\r\n",
      "Requirement already satisfied: pillow>=6.2.0 in /Users/couttsj/anaconda3/lib/python3.11/site-packages (from matplotlib>=3.6.0->plotnine) (10.0.1)\r\n",
      "Requirement already satisfied: pyparsing<3.1,>=2.3.1 in /Users/couttsj/anaconda3/lib/python3.11/site-packages (from matplotlib>=3.6.0->plotnine) (3.0.9)\r\n",
      "Requirement already satisfied: python-dateutil>=2.7 in /Users/couttsj/anaconda3/lib/python3.11/site-packages (from matplotlib>=3.6.0->plotnine) (2.8.2)\r\n",
      "Requirement already satisfied: pytz>=2020.1 in /Users/couttsj/anaconda3/lib/python3.11/site-packages (from pandas<3.0.0,>=2.1.0->plotnine) (2023.3.post1)\r\n",
      "Requirement already satisfied: tzdata>=2022.7 in /Users/couttsj/anaconda3/lib/python3.11/site-packages (from pandas<3.0.0,>=2.1.0->plotnine) (2023.3)\r\n",
      "Requirement already satisfied: patsy>=0.5.2 in /Users/couttsj/anaconda3/lib/python3.11/site-packages (from statsmodels>=0.14.0->plotnine) (0.5.3)\r\n",
      "Requirement already satisfied: six in /Users/couttsj/anaconda3/lib/python3.11/site-packages (from patsy>=0.5.2->statsmodels>=0.14.0->plotnine) (1.16.0)\r\n",
      "Downloading plotnine-0.13.4-py3-none-any.whl (1.3 MB)\r\n",
      "\u001B[2K   \u001B[90m━━━━━━━━━━━━━━━━━━━━━━━━━━━━━━━━━━━━━━━━\u001B[0m \u001B[32m1.3/1.3 MB\u001B[0m \u001B[31m9.0 MB/s\u001B[0m eta \u001B[36m0:00:00\u001B[0ma \u001B[36m0:00:01\u001B[0m\r\n",
      "\u001B[?25hDownloading mizani-0.11.1-py3-none-any.whl (127 kB)\r\n",
      "\u001B[2K   \u001B[90m━━━━━━━━━━━━━━━━━━━━━━━━━━━━━━━━━━━━━━━\u001B[0m \u001B[32m127.3/127.3 kB\u001B[0m \u001B[31m114.4 MB/s\u001B[0m eta \u001B[36m0:00:00\u001B[0m\r\n",
      "\u001B[?25hDownloading pandas-2.2.2-cp311-cp311-macosx_11_0_arm64.whl (11.3 MB)\r\n",
      "\u001B[2K   \u001B[90m━━━━━━━━━━━━━━━━━━━━━━━━━━━━━━━━━━━━━━━━\u001B[0m \u001B[32m11.3/11.3 MB\u001B[0m \u001B[31m9.5 MB/s\u001B[0m eta \u001B[36m0:00:00\u001B[0m00:01\u001B[0m00:01\u001B[0m\r\n",
      "\u001B[?25hInstalling collected packages: pandas, mizani, plotnine\r\n",
      "  Attempting uninstall: pandas\r\n",
      "    Found existing installation: pandas 2.0.3\r\n",
      "    Uninstalling pandas-2.0.3:\r\n",
      "      Successfully uninstalled pandas-2.0.3\r\n",
      "\u001B[31mERROR: pip's dependency resolver does not currently take into account all the packages that are installed. This behaviour is the source of the following dependency conflicts.\r\n",
      "alphafold 2.3.2 requires absl-py, which is not installed.\r\n",
      "alphafold 2.3.2 requires biopython, which is not installed.\u001B[0m\u001B[31m\r\n",
      "\u001B[0mSuccessfully installed mizani-0.11.1 pandas-2.2.2 plotnine-0.13.4\r\n",
      "\u001B[33mDEPRECATION: Loading egg at /Users/couttsj/anaconda3/lib/python3.11/site-packages/ml_collections-0.1.1-py3.11.egg is deprecated. pip 23.3 will enforce this behaviour change. A possible replacement is to use pip for package installation..\u001B[0m\u001B[33m\r\n",
      "\u001B[0m\u001B[33mDEPRECATION: Loading egg at /Users/couttsj/anaconda3/lib/python3.11/site-packages/immutabledict-3.0.0-py3.11.egg is deprecated. pip 23.3 will enforce this behaviour change. A possible replacement is to use pip for package installation..\u001B[0m\u001B[33m\r\n",
      "\u001B[0m\u001B[33mDEPRECATION: Loading egg at /Users/couttsj/anaconda3/lib/python3.11/site-packages/docker-6.1.3-py3.11.egg is deprecated. pip 23.3 will enforce this behaviour change. A possible replacement is to use pip for package installation..\u001B[0m\u001B[33m\r\n",
      "\u001B[0m\u001B[33mDEPRECATION: Loading egg at /Users/couttsj/anaconda3/lib/python3.11/site-packages/dm_haiku-0.0.10-py3.11.egg is deprecated. pip 23.3 will enforce this behaviour change. A possible replacement is to use pip for package installation..\u001B[0m\u001B[33m\r\n",
      "\u001B[0m\u001B[33mDEPRECATION: Loading egg at /Users/couttsj/anaconda3/lib/python3.11/site-packages/chex-0.1.82-py3.11.egg is deprecated. pip 23.3 will enforce this behaviour change. A possible replacement is to use pip for package installation..\u001B[0m\u001B[33m\r\n",
      "\u001B[0m\u001B[33mDEPRECATION: Loading egg at /Users/couttsj/anaconda3/lib/python3.11/site-packages/alphafold-2.3.2-py3.11.egg is deprecated. pip 23.3 will enforce this behaviour change. A possible replacement is to use pip for package installation..\u001B[0m\u001B[33m\r\n",
      "\u001B[0m\u001B[33mDEPRECATION: Loading egg at /Users/couttsj/anaconda3/lib/python3.11/site-packages/dm_tree-0.1.8-py3.11-macosx-11.1-arm64.egg is deprecated. pip 23.3 will enforce this behaviour change. A possible replacement is to use pip for package installation..\u001B[0m\u001B[33m\r\n",
      "\u001B[0m\u001B[33mDEPRECATION: Loading egg at /Users/couttsj/anaconda3/lib/python3.11/site-packages/jax-0.4.15.dev20230831-py3.11.egg is deprecated. pip 23.3 will enforce this behaviour change. A possible replacement is to use pip for package installation..\u001B[0m\u001B[33m\r\n",
      "\u001B[0m\u001B[33mDEPRECATION: Loading egg at /Users/couttsj/anaconda3/lib/python3.11/site-packages/tensorflow-2.14.0rc0-py3.11-macosx-11.1-arm64.egg is deprecated. pip 23.3 will enforce this behaviour change. A possible replacement is to use pip for package installation..\u001B[0m\u001B[33m\r\n",
      "\u001B[0mLooking in indexes: https://pypi.org/simple, https://pypi.ngc.nvidia.com\r\n",
      "Requirement already satisfied: statsmodels in /Users/couttsj/anaconda3/lib/python3.11/site-packages (0.14.0)\r\n",
      "Requirement already satisfied: numpy>=1.18 in /Users/couttsj/anaconda3/lib/python3.11/site-packages (from statsmodels) (1.24.3)\r\n",
      "Requirement already satisfied: scipy!=1.9.2,>=1.4 in /Users/couttsj/anaconda3/lib/python3.11/site-packages (from statsmodels) (1.11.3)\r\n",
      "Requirement already satisfied: pandas>=1.0 in /Users/couttsj/anaconda3/lib/python3.11/site-packages (from statsmodels) (2.2.2)\r\n",
      "Requirement already satisfied: patsy>=0.5.2 in /Users/couttsj/anaconda3/lib/python3.11/site-packages (from statsmodels) (0.5.3)\r\n",
      "Requirement already satisfied: packaging>=21.3 in /Users/couttsj/anaconda3/lib/python3.11/site-packages (from statsmodels) (23.1)\r\n",
      "Requirement already satisfied: python-dateutil>=2.8.2 in /Users/couttsj/anaconda3/lib/python3.11/site-packages (from pandas>=1.0->statsmodels) (2.8.2)\r\n",
      "Requirement already satisfied: pytz>=2020.1 in /Users/couttsj/anaconda3/lib/python3.11/site-packages (from pandas>=1.0->statsmodels) (2023.3.post1)\r\n",
      "Requirement already satisfied: tzdata>=2022.7 in /Users/couttsj/anaconda3/lib/python3.11/site-packages (from pandas>=1.0->statsmodels) (2023.3)\r\n",
      "Requirement already satisfied: six in /Users/couttsj/anaconda3/lib/python3.11/site-packages (from patsy>=0.5.2->statsmodels) (1.16.0)\r\n"
     ]
    }
   ],
   "source": [
    "# Install a pip package in the current Jupyter kernel\n",
    "import sys\n",
    "!{sys.executable} -m pip install plotnine\n",
    "!{sys.executable} -m pip install statsmodels"
   ],
   "metadata": {
    "collapsed": false
   }
  },
  {
   "cell_type": "code",
   "execution_count": 4,
   "outputs": [],
   "source": [
    "# Import statements\n",
    "\n",
    "import pandas as pd  # A Python data analysis and manipulation tool\n",
    "from plotnine import *  # Python equivalent of `ggplot2`\n",
    "import statsmodels.api as sm  # Statistical models, conducting tests and statistical data exploration\n",
    "import statsmodels.formula.api as smf  # Convenience interface for specifying models using formula strings & DataFrames"
   ],
   "metadata": {
    "collapsed": false
   }
  },
  {
   "cell_type": "code",
   "execution_count": 5,
   "outputs": [],
   "source": [
    "# Define working directory\n",
    "work_dir = '/Users/couttsj/Desktop/Statistics_Course/'"
   ],
   "metadata": {
    "collapsed": false
   }
  },
  {
   "cell_type": "code",
   "execution_count": 6,
   "outputs": [],
   "source": [
    "# Load the data\n",
    "exercise_py = pd.read_csv(f\"{work_dir}data/CS4-exercise.csv\")"
   ],
   "metadata": {
    "collapsed": false
   }
  },
  {
   "cell_type": "code",
   "execution_count": 7,
   "outputs": [
    {
     "data": {
      "image/png": "[encoded data removed]"
     },
     "metadata": {
      "image/png": {
       "width": 640,
       "height": 480
      }
     },
     "output_type": "display_data"
    }
   ],
   "source": [
    "# Visualise the data with a box plot, sex vs weight\n",
    "bp_one_svw = (ggplot(exercise_py, aes(\"sex\", \"weight\"))\n",
    "              + geom_boxplot())\n",
    "bp_one_svw.show()"
   ],
   "metadata": {
    "collapsed": false
   }
  },
  {
   "cell_type": "code",
   "execution_count": null,
   "outputs": [],
   "source": [],
   "metadata": {
    "collapsed": false
   }
  }
 ],
 "metadata": {
  "kernelspec": {
   "display_name": "Python 3",
   "language": "python",
   "name": "python3"
  },
  "language_info": {
   "codemirror_mode": {
    "name": "ipython",
    "version": 2
   },
   "file_extension": ".py",
   "mimetype": "text/x-python",
   "name": "python",
   "nbconvert_exporter": "python",
   "pygments_lexer": "ipython2",
   "version": "2.7.6"
  }
 },
 "nbformat": 4,
 "nbformat_minor": 0
}
